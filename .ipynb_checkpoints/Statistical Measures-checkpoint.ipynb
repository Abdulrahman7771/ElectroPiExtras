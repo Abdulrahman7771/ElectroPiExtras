{
 "cells": [
  {
   "cell_type": "code",
   "execution_count": 1,
   "id": "c07fca71-638f-4c1c-a9df-9b1bfc47716b",
   "metadata": {},
   "outputs": [],
   "source": [
    "import numpy as np "
   ]
  },
  {
   "cell_type": "code",
   "execution_count": 2,
   "id": "514c35f8-07fd-451e-b1d2-a19ec062def0",
   "metadata": {},
   "outputs": [],
   "source": [
    "values = np.array([2,3,5,10,100])"
   ]
  },
  {
   "cell_type": "code",
   "execution_count": 3,
   "id": "9b4e3cac-2fba-4bfc-950a-48997c2cffea",
   "metadata": {},
   "outputs": [
    {
     "data": {
      "text/plain": [
       "24.0"
      ]
     },
     "execution_count": 3,
     "metadata": {},
     "output_type": "execute_result"
    }
   ],
   "source": [
    "np.mean(values)"
   ]
  },
  {
   "cell_type": "code",
   "execution_count": 4,
   "id": "57c490f7-695a-4dd5-bd22-ce904a023add",
   "metadata": {},
   "outputs": [
    {
     "data": {
      "text/plain": [
       "5.0"
      ]
     },
     "execution_count": 4,
     "metadata": {},
     "output_type": "execute_result"
    }
   ],
   "source": [
    "np.median(values)"
   ]
  },
  {
   "cell_type": "code",
   "execution_count": 5,
   "id": "64bb5917-a9cb-4765-a468-08989e3456b0",
   "metadata": {},
   "outputs": [
    {
     "data": {
      "text/plain": [
       "1451.6"
      ]
     },
     "execution_count": 5,
     "metadata": {},
     "output_type": "execute_result"
    }
   ],
   "source": [
    "np.var(values)"
   ]
  },
  {
   "cell_type": "code",
   "execution_count": 6,
   "id": "650720c5-d910-4a38-a7d4-25fc385a8e61",
   "metadata": {},
   "outputs": [
    {
     "data": {
      "text/plain": [
       "38.09986876617818"
      ]
     },
     "execution_count": 6,
     "metadata": {},
     "output_type": "execute_result"
    }
   ],
   "source": [
    "np.std(values)"
   ]
  }
 ],
 "metadata": {
  "kernelspec": {
   "display_name": "Python 3 (ipykernel)",
   "language": "python",
   "name": "python3"
  },
  "language_info": {
   "codemirror_mode": {
    "name": "ipython",
    "version": 3
   },
   "file_extension": ".py",
   "mimetype": "text/x-python",
   "name": "python",
   "nbconvert_exporter": "python",
   "pygments_lexer": "ipython3",
   "version": "3.11.3"
  }
 },
 "nbformat": 4,
 "nbformat_minor": 5
}
